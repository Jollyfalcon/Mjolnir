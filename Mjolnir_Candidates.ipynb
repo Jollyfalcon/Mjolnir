{
 "cells": [
  {
   "cell_type": "code",
   "execution_count": null,
   "id": "afb6a4b5",
   "metadata": {},
   "outputs": [],
   "source": [
    "import pandas as pd\n",
    "import datetime\n",
    "\n",
    "# mile range of bounding box for finding stations to check thunder\n",
    "mile_range=10\n",
    "#constant value for determining thunderstorms above the average\n",
    "thunder_over_avg=10\n",
    "thunder_over_avg_ratio=1.5\n",
    "\n",
    "#start and end dates for choosing file names of csv data\n",
    "#start dates [1929,1970,1980,1990,2000,2010,2020]\n",
    "start_dates_range=[1929,1970,1980,1990,2000,2010,2020]\n",
    "#end dates[1969,1979,1989,1999,2009,2019,2025]\n",
    "end_dates_range=[1969,1979,1989,1999,2009,2019,2025]\n",
    "\n",
    "#read data of meteorite candidates and eliminate any that were not witnessed falls\n",
    "candidate_data = pd.read_csv('Candidate Meteorite Details.csv')\n",
    "candidate_data_fell=candidate_data[candidate_data['Observed y/n']=='y'].reset_index(drop=True)\n",
    "\n",
    "for index, row in candidate_data_fell.iterrows():\n",
    "    fell_date=datetime.strptime(row['Date'],\"%m/%d/%Y\").date()\n",
    "    candidate_year_data=pd.read_csv(f'Weather_Data/{fell_date.year}_data.csv')\n",
    "    candidate_year_data[candidate_year_data['NAME']==row['Meteorite name']].reset_index(drop=True,inplace=True)\n",
    "\n",
    "    \n",
    "\n"
   ]
  }
 ],
 "metadata": {
  "language_info": {
   "name": "python"
  }
 },
 "nbformat": 4,
 "nbformat_minor": 5
}
