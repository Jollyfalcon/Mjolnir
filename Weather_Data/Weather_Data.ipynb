{
 "cells": [
  {
   "cell_type": "code",
   "execution_count": null,
   "id": "c8747314-88fd-44fd-8e58-e69fc8ae118d",
   "metadata": {
    "scrolled": true
   },
   "outputs": [],
   "source": [
    "# import libraries to request data from URLs and read them\n",
    "import requests\n",
    "from bs4 import BeautifulSoup\n",
    "import os\n",
    "import pandas as pd\n",
    "\n",
    "#URL of directory of weather data\n",
    "weather_data_url = \"https://www.ncei.noaa.gov/data/global-summary-of-the-day/access/\"\n",
    "#get HTML text from ULR\n",
    "url_text = requests.get(weather_data_url)\n",
    "#use Beautiful Soup to parse data in HTML text\n",
    "weather_soup = BeautifulSoup(url_text.text,'html.parser')\n",
    "\n",
    "#create list of all year folders containing .csv files \n",
    "year_folders = [a['href'] for a in weather_soup.find_all('a', href=True) if a['href'].endswith('/') and not a['href'].startswith('/')]\n",
    "\n",
    "#create Data Frame to fill from csv files\n",
    "used_columns = ['DATE','LATITUDE','LONGITUDE','ELEVATION','NAME','FRSHTT']\n",
    "#weather_df=pd.DataFrame([['init',1.1,1.1,1.1,'init',1]],columns=used_columns)\n",
    "\n",
    "for year in year_folders:\n",
    "    #year=\"1929/\"\n",
    "    if os.path.exists(f'{year[:len(year)-1]}_data.csv'):\n",
    "        continue\n",
    "    year_df = pd.DataFrame([['init',1.1,1.1,1.1,'init',1]],columns=used_columns)\n",
    "    #request and create beautiful soup for each year folder\n",
    "    year_text = requests.get(weather_data_url+year)\n",
    "    year_soup = BeautifulSoup(year_text.text,'html.parser')\n",
    "    #create list of all csv files in each folder\n",
    "    csv_files = [a['href'] for a in year_soup.find_all('a', href=True) if a['href'].endswith('.csv')]\n",
    "    total_files = len(csv_files)\n",
    "    current_file = 0\n",
    "    for file in csv_files:\n",
    "        #print(weather_data_url+year+file)\n",
    "        current_file = current_file + 1\n",
    "        print(f\"\\rLoading file: {current_file}/{total_files} in year {year}          \", end = \"\", flush = True)\n",
    "        csv_df = pd.read_csv(weather_data_url+year+file,usecols=used_columns)\n",
    "        #print(csv_df.info())\n",
    "        year_df=pd.concat([year_df,csv_df], ignore_index = True)\n",
    "    year_df=year_df.drop(0)\n",
    "    year_df.to_csv(f'{year[:len(year)-1]}_data.csv',index=False)\n",
    "\n",
    "print('Complete')\n",
    "\n",
    "#weather_df=weather_df.drop(0)\n",
    "#weather_df.info()\n",
    "#weather_df.to_csv('Weather_Data.csv',index=False)\n"
   ]
  },
  {
   "cell_type": "code",
   "execution_count": null,
   "id": "2c8f7fec-3edc-4e5b-b096-20f868be1c64",
   "metadata": {},
   "outputs": [],
   "source": []
  }
 ],
 "metadata": {
  "kernelspec": {
   "display_name": "base",
   "language": "python",
   "name": "python3"
  },
  "language_info": {
   "codemirror_mode": {
    "name": "ipython",
    "version": 3
   },
   "file_extension": ".py",
   "mimetype": "text/x-python",
   "name": "python",
   "nbconvert_exporter": "python",
   "pygments_lexer": "ipython3",
   "version": "3.12.3"
  }
 },
 "nbformat": 4,
 "nbformat_minor": 5
}
