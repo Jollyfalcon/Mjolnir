{
 "cells": [
  {
   "cell_type": "code",
   "execution_count": null,
   "id": "c8747314-88fd-44fd-8e58-e69fc8ae118d",
   "metadata": {
    "scrolled": true
   },
   "outputs": [
    {
     "name": "stdout",
     "output_type": "stream",
     "text": [
      "Adding 11623 from year 2025/ to 582788         Complete\n",
      "Total number of csv files is594411\n"
     ]
    }
   ],
   "source": [
    "# import libraries to request data from URLs and read them\n",
    "import requests\n",
    "from bs4 import BeautifulSoup\n",
    "import os\n",
    "import pandas as pd\n",
    "\n",
    "#URL of directory of weather data\n",
    "weather_data_url = \"https://www.ncei.noaa.gov/data/global-summary-of-the-day/access/\"\n",
    "#get HTML text from ULR\n",
    "url_text = requests.get(weather_data_url)\n",
    "#use Beautiful Soup to parse data in HTML text\n",
    "weather_soup = BeautifulSoup(url_text.text,'html.parser')\n",
    "\n",
    "#create list of all year folders containing .csv files \n",
    "year_folders = [a['href'] for a in weather_soup.find_all('a', href=True) if a['href'].endswith('/') and not a['href'].startswith('/')]\n",
    "\n",
    "num_files=0\n",
    "for year in year_folders:\n",
    "    #request and create beautiful soup for each year folder\n",
    "    year_text = requests.get(weather_data_url+year)\n",
    "    year_soup = BeautifulSoup(year_text.text,'html.parser')\n",
    "    #create list of all csv files in each folder\n",
    "    csv_files = [a['href'] for a in year_soup.find_all('a', href=True) if a['href'].endswith('.csv')]\n",
    "    total_files = len(csv_files)\n",
    "    print(f\"\\rAdding {total_files} from year {year} to {num_files}         \", end = \"\", flush = True)\n",
    "    num_files=num_files+total_files\n",
    "\n",
    "print('Complete')\n",
    "print(f'Total number of csv files is {num_files}')\n",
    "\n"
   ]
  },
  {
   "cell_type": "code",
   "execution_count": null,
   "id": "2c8f7fec-3edc-4e5b-b096-20f868be1c64",
   "metadata": {},
   "outputs": [],
   "source": []
  }
 ],
 "metadata": {
  "kernelspec": {
   "display_name": "venv",
   "language": "python",
   "name": "python3"
  },
  "language_info": {
   "codemirror_mode": {
    "name": "ipython",
    "version": 3
   },
   "file_extension": ".py",
   "mimetype": "text/x-python",
   "name": "python",
   "nbconvert_exporter": "python",
   "pygments_lexer": "ipython3",
   "version": "3.13.7"
  }
 },
 "nbformat": 4,
 "nbformat_minor": 5
}
