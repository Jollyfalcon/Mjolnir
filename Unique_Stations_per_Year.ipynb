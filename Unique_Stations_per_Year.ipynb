{
 "cells": [
  {
   "cell_type": "code",
   "execution_count": 1,
   "id": "3213625a",
   "metadata": {},
   "outputs": [
    {
     "name": "stdout",
     "output_type": "stream",
     "text": [
      "Loading file: 2025_data.csv  Complete\n",
      "All_Stations_1929_2025.csv save complete.\n"
     ]
    }
   ],
   "source": [
    "import pandas as pd\n",
    "#import math\n",
    "#import numpy as np\n",
    "\n",
    "pd.options.mode.copy_on_write = True\n",
    "pd.set_option(\"future.no_silent_downcasting\", True)\n",
    "\n",
    "#initialize year range and dataframes\n",
    "year_start=1929\n",
    "year_end=2025\n",
    "year_list=list(map(str,range(year_start,year_end+1)))\n",
    "station_info=['NAME','LATITUDE','LONGITUDE']\n",
    "weather_df_dict={}\n",
    "unique_stations=pd.DataFrame(columns=station_info+year_list)\n",
    "#loop through each year, loading weather data\n",
    "for year in range(year_start,year_end+1):\n",
    "    print(f\"\\rLoading file: {year}_data.csv\", end = \"\", flush = True)\n",
    "    #load weather data and clean it\n",
    "    weather_df_dict[year]=pd.read_csv(f'Weather_data/{year}_data.csv')\n",
    "    weather_df_dict[year].dropna(ignore_index=True,inplace=True)\n",
    "    #create dataframe of with just the unique stations and their coordinates \n",
    "    weather_df_dict[year].drop_duplicates(subset=['NAME'],inplace=True)\n",
    "    years_stations=weather_df_dict[year][station_info]\n",
    "    #add column of the current year for all unique stations and set to TRUE\n",
    "    years_stations[f'{year}']=True\n",
    "    #for first loop, fill unique stations with the first year's unique stations\n",
    "    if unique_stations.empty:\n",
    "        unique_stations=years_stations\n",
    "    #for all remaining loops, merge the year's unique stations with the unique stations master dataframe\n",
    "    #all stations that previously existed have that year's column set to True, all new stations are added\n",
    "    else:\n",
    "        unique_stations=pd.merge(unique_stations,years_stations,how='outer',on=station_info)\n",
    "print('  Complete')\n",
    "#clean up dataframe of unique stations, replace all 'NA' values with 'False'\n",
    "unique_stations.reset_index(inplace=True,drop=True)\n",
    "unique_stations.fillna(value=False,inplace=True)\n",
    "#save dataframe\n",
    "unique_stations.to_csv(f'All_Stations_{year_start}_{year_end}.csv',index=False)\n",
    "print(f'All_Stations_{year_start}_{year_end}.csv save complete.')\n"
   ]
  },
  {
   "cell_type": "code",
   "execution_count": null,
   "id": "50a44bcd",
   "metadata": {},
   "outputs": [],
   "source": []
  }
 ],
 "metadata": {
  "kernelspec": {
   "display_name": "venv",
   "language": "python",
   "name": "python3"
  },
  "language_info": {
   "codemirror_mode": {
    "name": "ipython",
    "version": 3
   },
   "file_extension": ".py",
   "mimetype": "text/x-python",
   "name": "python",
   "nbconvert_exporter": "python",
   "pygments_lexer": "ipython3",
   "version": "3.13.7"
  }
 },
 "nbformat": 4,
 "nbformat_minor": 5
}
