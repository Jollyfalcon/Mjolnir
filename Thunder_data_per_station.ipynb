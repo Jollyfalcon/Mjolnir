{
 "cells": [
  {
   "cell_type": "code",
   "execution_count": 1,
   "id": "c4d94536-dc57-483a-a544-1ea5ba84ae2c",
   "metadata": {
    "scrolled": true
   },
   "outputs": [
    {
     "name": "stdout",
     "output_type": "stream",
     "text": [
      "Loading file: 2025_data.csv          Complete\n",
      "Calculating thunder data for station# 13514/13514 in 2025           Complete\n",
      "Thunder_data_2020_2025.csv save complete.\n"
     ]
    }
   ],
   "source": [
    "import pandas as pd\n",
    "import math\n",
    "import numpy as np\n",
    "\n",
    "pd.options.mode.copy_on_write = True\n",
    "pd.set_option(\"future.no_silent_downcasting\", True)\n",
    "#start and end years to analyze\n",
    "year_start=2020\n",
    "year_end=2025\n",
    "#list of all years as strings\n",
    "year_list=list(map(str,range(year_start,year_end+1)))\n",
    "\n",
    "def avg_yearly_thunder(station,station_index):\n",
    "    \"\"\"Returns list of thunder instances by year and total average thunder instances across all years for a single station\"\"\"\n",
    "    global year_start\n",
    "    global year_end\n",
    "    global weather_df_dict\n",
    "    global total_stations_list\n",
    "\n",
    "    thunder_list=[]\n",
    "    thunder_list_weight=[]\n",
    "    for year in range(year_start,year_end+1):\n",
    "        print(f'\\rCalculating thunder data for station# {station_index+1}/{total_stations_list} in {year}           ', end = \"\", flush = True)\n",
    "        #dataframe of all weather day datapoints of this station in each year\n",
    "        station_data_in_year=weather_df_dict[year][weather_df_dict[year]['NAME']==station]\n",
    "        #list of weights for weighted average based on the number of data points in the year\n",
    "        thunder_list_weight.append(len(station_data_in_year))\n",
    "        #if there are no datapoints, fill with \"NA\" for that year's datapoint\n",
    "        if station_data_in_year.empty:\n",
    "            thunder_list.append(pd.NA)\n",
    "        else:\n",
    "            #if there are datapoints, select all datapoints that reported thunder\n",
    "            station_thunder_in_year=station_data_in_year[(station_data_in_year['FRSHTT']//10)%2==1]\n",
    "            #sum all datapoints together to get a total of detected thunderstorms for that year\n",
    "            thunder_list.append(len(station_thunder_in_year))\n",
    "    \n",
    "    #create list with all \"NA\" datapoints replaced by 0 for weighted calculation. These correspond to\n",
    "        #a weight of 0 in thunder_List_weight, so the resulting weighted average will not be skewed\n",
    "    thunder_list_no_na=pd.Series(thunder_list).fillna(0).tolist()\n",
    "    #create total average of thunderstorms across all years \n",
    "    thunder_list.append(pd.Series(thunder_list).mean())\n",
    "    #weighted average is calculated based on the number of days the station reported for each year\n",
    "    thunder_list.append(sum(np.multiply(thunder_list_no_na,thunder_list_weight).tolist())/sum(thunder_list_weight))\n",
    "    #print(f'{station} values: {thunder_list}')\n",
    "    return thunder_list\n",
    "\n",
    "#initialization of dataframe for all weather data, a list of years, and dataframe for all stations\n",
    "weather_df_dict={}\n",
    "year_list=list(map(str,range(year_start,year_end+1)))\n",
    "#station dataframe has 1 column for the station name, a column for each year's combined thunderstorms,\n",
    "    #and a total average thunderstorms per year across all years\n",
    "stations_lightning_info=pd.DataFrame(columns=['NAME']+year_list+['AVERAGE']+['WEIGHTED_AVERAGE'])\n",
    "#loop through each year, finding unique stations and adding them to the new dataframe\n",
    "for year in range(year_start,year_end+1):\n",
    "    print(f\"\\rLoading file: {year}_data.csv          \", end = \"\", flush = True)\n",
    "    #read in weather data for each year and clean\n",
    "    weather_df_dict[year]=pd.read_csv(f'Weather_data/{year}_data.csv')\n",
    "    weather_df_dict[year].dropna(ignore_index=True,inplace=True)\n",
    "    #grab unique station names for that year\n",
    "    station_list=weather_df_dict[year]['NAME'].drop_duplicates(keep='first').reset_index(drop=True)\n",
    "    #for first iteration, set the station_lightning_info dataframe to the list of unique station names\n",
    "    if stations_lightning_info.empty:\n",
    "        stations_lightning_info['NAME']=station_list\n",
    "    #after first year, concatinate all unique station names for each year onto the dataframe\n",
    "    else:\n",
    "        stations_lightning_info=pd.concat([stations_lightning_info,station_list.to_frame(name='NAME')],ignore_index=True)\n",
    "        #drop all duplicate stations that were added but existed in previous years\n",
    "        stations_lightning_info.drop_duplicates(subset=['NAME'],inplace=True)\n",
    "print('Complete')\n",
    "\n",
    "stations_lightning_info.reset_index(inplace=True,drop=True)\n",
    "total_stations_list=len(stations_lightning_info)\n",
    "#calculate yearly thunder instances for each station and a total average of thunder instances per year across all years\n",
    "stations_lightning_info[year_list+['AVERAGE']+['WEIGHTED_AVERAGE']]=stations_lightning_info.apply(lambda x:\n",
    "                                                                             avg_yearly_thunder(x['NAME'],x.name),axis=1,result_type='expand')\n",
    "print('Complete')\n",
    "#save data to a csv\n",
    "stations_lightning_info.to_csv(f'Thunder_data_{year_start}_{year_end}.csv',index=False)\n",
    "print(f'Thunder_data_{year_start}_{year_end}.csv save complete.')"
   ]
  },
  {
   "cell_type": "code",
   "execution_count": null,
   "id": "6460b955",
   "metadata": {},
   "outputs": [],
   "source": []
  }
 ],
 "metadata": {
  "kernelspec": {
   "display_name": "base",
   "language": "python",
   "name": "python3"
  },
  "language_info": {
   "codemirror_mode": {
    "name": "ipython",
    "version": 3
   },
   "file_extension": ".py",
   "mimetype": "text/x-python",
   "name": "python",
   "nbconvert_exporter": "python",
   "pygments_lexer": "ipython3",
   "version": "3.12.3"
  }
 },
 "nbformat": 4,
 "nbformat_minor": 5
}
